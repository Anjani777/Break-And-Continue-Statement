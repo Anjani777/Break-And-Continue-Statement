{
 "cells": [
  {
   "cell_type": "code",
   "execution_count": 17,
   "id": "903726fb-8260-4454-9e2b-1098fab3f53c",
   "metadata": {},
   "outputs": [
    {
     "name": "stdout",
     "output_type": "stream",
     "text": [
      "1 2 3 4 "
     ]
    }
   ],
   "source": [
    "#Write a program to print numbers from 1 to 10, but stop if the number is 5.\n",
    "n = 10\n",
    "i = 1\n",
    "while i <= n:\n",
    "    print(i, end = \" \")\n",
    "    i += 1\n",
    "    if i == 5:\n",
    "        break\n"
   ]
  },
  {
   "cell_type": "code",
   "execution_count": 9,
   "id": "03b01874-ff5e-44df-a357-dc13369e2b70",
   "metadata": {},
   "outputs": [
    {
     "name": "stdout",
     "output_type": "stream",
     "text": [
      "1 2 3 "
     ]
    }
   ],
   "source": [
    "#Write a program to iterate through a list and stop when encountering a specific element.\n",
    "list_cont = [1,2,3,\"anjani\",\"pandey\"]\n",
    "for i in list_cont:\n",
    "    if i == \"anjani\":\n",
    "        break\n",
    "    print(i,end = \" \")\n",
    "    \n"
   ]
  },
  {
   "cell_type": "code",
   "execution_count": 8,
   "id": "6a40fafa-b1a0-4ea4-b96a-b63cb8d48a3e",
   "metadata": {},
   "outputs": [
    {
     "name": "stdout",
     "output_type": "stream",
     "text": [
      "1 3 5 7 9 "
     ]
    }
   ],
   "source": [
    "#Write a program to skip printing even numbers from 1 to 10.\n",
    "n = 10\n",
    "i = 1\n",
    "while i <= 10:\n",
    "    if i % 2 == 0:\n",
    "        i += 1\n",
    "        continue\n",
    "    print(i , end = \" \")\n",
    "    i += 1\n",
    "    "
   ]
  },
  {
   "cell_type": "code",
   "execution_count": 7,
   "id": "08465cf3-ed8e-411e-9771-9946d8ad02f3",
   "metadata": {},
   "outputs": [
    {
     "name": "stdout",
     "output_type": "stream",
     "text": [
      "0 1 2 3 4 5 6 7 8 9 "
     ]
    }
   ],
   "source": [
    "#Write a program to print numbers from 0 to 9 using range.\n",
    "for i in range(0,10):\n",
    "    print(i, end = \" \")\n"
   ]
  },
  {
   "cell_type": "code",
   "execution_count": 15,
   "id": "36fdc732-c1a5-4993-809b-c2fd352e6aab",
   "metadata": {},
   "outputs": [
    {
     "name": "stdout",
     "output_type": "stream",
     "text": [
      "1 x 1 = 1\n",
      "\n",
      "2 x 1 = 2\n",
      "\n",
      "3 x 1 = 3\n",
      "\n",
      "4 x 1 = 4\n",
      "\n",
      "5 x 1 = 5\n",
      "\n"
     ]
    }
   ],
   "source": [
    "#Write a program to print multiplication tables from 1 to 5, but stop after the first table is printed for each\n",
    "#number.\n",
    "for i in range(1,6):\n",
    "    for j in range(1,6):\n",
    "        if j == 2:\n",
    "            break\n",
    "        print(f\"{i} x {j} = {i * j}\" )\n",
    "    print()\n"
   ]
  },
  {
   "cell_type": "code",
   "execution_count": 16,
   "id": "dca356e7-7aa8-4260-b413-538915179ce7",
   "metadata": {},
   "outputs": [
    {
     "name": "stdout",
     "output_type": "stream",
     "text": [
      "1 3 5 7 9 "
     ]
    }
   ],
   "source": [
    "#Write a program to skip printing even numbers using a while loop.\n",
    "n = 10\n",
    "i = 1\n",
    "while i <= 10:\n",
    "    if i % 2 == 0:\n",
    "        i += 1\n",
    "        continue\n",
    "    print(i , end = \" \")\n",
    "    i += 1"
   ]
  }
 ],
 "metadata": {
  "kernelspec": {
   "display_name": "Python 3 (ipykernel)",
   "language": "python",
   "name": "python3"
  },
  "language_info": {
   "codemirror_mode": {
    "name": "ipython",
    "version": 3
   },
   "file_extension": ".py",
   "mimetype": "text/x-python",
   "name": "python",
   "nbconvert_exporter": "python",
   "pygments_lexer": "ipython3",
   "version": "3.10.8"
  }
 },
 "nbformat": 4,
 "nbformat_minor": 5
}
